{
 "cells": [
  {
   "cell_type": "code",
   "execution_count": 1,
   "id": "4d4afaf6-89c0-41d4-a3ad-f835d1a95451",
   "metadata": {},
   "outputs": [],
   "source": [
    "letters = [\"A\", \"B\", \"c\", \"d\"]"
   ]
  },
  {
   "cell_type": "code",
   "execution_count": 2,
   "id": "66ee6ae5-560e-470c-91fd-3712d25d9bd8",
   "metadata": {},
   "outputs": [
    {
     "data": {
      "text/plain": [
       "['A', 'B', 'c', 'd']"
      ]
     },
     "execution_count": 2,
     "metadata": {},
     "output_type": "execute_result"
    }
   ],
   "source": [
    "letters"
   ]
  },
  {
   "cell_type": "code",
   "execution_count": 4,
   "id": "019f4e9b-949a-4415-8301-a91cc97904cd",
   "metadata": {},
   "outputs": [],
   "source": [
    "letters[2:] = [\"C\", \"D\"]"
   ]
  },
  {
   "cell_type": "code",
   "execution_count": 5,
   "id": "504fa7ad-c912-446d-bf3e-fcb5f4e0b35c",
   "metadata": {},
   "outputs": [
    {
     "data": {
      "text/plain": [
       "['A', 'B', 'C', 'D']"
      ]
     },
     "execution_count": 5,
     "metadata": {},
     "output_type": "execute_result"
    }
   ],
   "source": [
    "letters"
   ]
  },
  {
   "cell_type": "code",
   "execution_count": 6,
   "id": "69675375-1f21-4307-9829-cb3142cc72c2",
   "metadata": {},
   "outputs": [],
   "source": [
    "numbers = [2, 4, 3, 1]"
   ]
  },
  {
   "cell_type": "code",
   "execution_count": 7,
   "id": "23e31029-f1df-4d35-bd73-8bf77c5b645e",
   "metadata": {},
   "outputs": [],
   "source": [
    "last_added = numbers.append(5)"
   ]
  },
  {
   "cell_type": "code",
   "execution_count": 8,
   "id": "d3497a4d-a2f6-48bb-bdd8-e4d8e089848b",
   "metadata": {},
   "outputs": [
    {
     "data": {
      "text/plain": [
       "[2, 4, 3, 1, 5]"
      ]
     },
     "execution_count": 8,
     "metadata": {},
     "output_type": "execute_result"
    }
   ],
   "source": [
    "numbers"
   ]
  },
  {
   "cell_type": "code",
   "execution_count": 9,
   "id": "391c8f3e-9c09-4bf1-a721-72e183cb2fa8",
   "metadata": {},
   "outputs": [],
   "source": [
    "sorted_numbers = numbers.sort()"
   ]
  },
  {
   "cell_type": "markdown",
   "id": "50b5d815-f075-48b0-945c-ca4279032e33",
   "metadata": {},
   "source": [
    "### List objects support two additional operations that you can perform with two operators:\n",
    "\n",
    "#### Concatenation, which uses the plus operator +\n",
    "#### Repetition, which uses the multiplication operator *\n",
    "\n",
    "+= for concatenation\r\n",
    "*= for repetition"
   ]
  },
  {
   "cell_type": "code",
   "execution_count": 12,
   "id": "5b12bc5e-925a-404a-bf6c-746d2a6981fa",
   "metadata": {},
   "outputs": [],
   "source": [
    "# Regular operator\n",
    "numbers = [1, 2, 3] + [4, 5, 6]"
   ]
  },
  {
   "cell_type": "code",
   "execution_count": 11,
   "id": "516eb7ec-87a6-4100-849b-0b0416108cb1",
   "metadata": {},
   "outputs": [
    {
     "data": {
      "text/plain": [
       "[1, 2, 3, 4, 5, 6]"
      ]
     },
     "execution_count": 11,
     "metadata": {},
     "output_type": "execute_result"
    }
   ],
   "source": [
    "numbers"
   ]
  },
  {
   "cell_type": "code",
   "execution_count": 13,
   "id": "a7333c9e-c345-49d0-954c-0a0a8a1ced7b",
   "metadata": {},
   "outputs": [
    {
     "data": {
      "text/plain": [
       "[1, 2, 3, 4, 5, 6]"
      ]
     },
     "execution_count": 13,
     "metadata": {},
     "output_type": "execute_result"
    }
   ],
   "source": [
    "numbers = [1, 2, 3]\n",
    "numbers += [4, 5, 6]\n",
    "numbers"
   ]
  },
  {
   "cell_type": "code",
   "execution_count": 17,
   "id": "64ccf275-5ae1-4154-8e78-5fde9ce487b1",
   "metadata": {},
   "outputs": [
    {
     "data": {
      "text/plain": [
       "['one', 'two', 'three', 'four', 'one', 'two', 'three', 'four']"
      ]
     },
     "execution_count": 17,
     "metadata": {},
     "output_type": "execute_result"
    }
   ],
   "source": [
    "str =[\"one\",\"two\",\"three\",\"four\"]\n",
    "str *= 2\n",
    "str"
   ]
  },
  {
   "cell_type": "code",
   "execution_count": null,
   "id": "588612ae-56eb-4268-8954-0c15ea113b65",
   "metadata": {},
   "outputs": [],
   "source": []
  }
 ],
 "metadata": {
  "kernelspec": {
   "display_name": "Python 3 (ipykernel)",
   "language": "python",
   "name": "python3"
  },
  "language_info": {
   "codemirror_mode": {
    "name": "ipython",
    "version": 3
   },
   "file_extension": ".py",
   "mimetype": "text/x-python",
   "name": "python",
   "nbconvert_exporter": "python",
   "pygments_lexer": "ipython3",
   "version": "3.11.8"
  }
 },
 "nbformat": 4,
 "nbformat_minor": 5
}
