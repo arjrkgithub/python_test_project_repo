{
 "cells": [
  {
   "cell_type": "code",
   "execution_count": 1,
   "id": "57d915b8-8e69-4e00-ab04-c6698cb74971",
   "metadata": {},
   "outputs": [
    {
     "data": {
      "text/plain": [
       "'D:\\\\py_venv\\\\myenv\\\\Scripts'"
      ]
     },
     "execution_count": 1,
     "metadata": {},
     "output_type": "execute_result"
    }
   ],
   "source": [
    "pwd"
   ]
  },
  {
   "cell_type": "code",
   "execution_count": 68,
   "id": "0aed3e18-e6cb-4ef6-8ea9-98a07c8d9b79",
   "metadata": {},
   "outputs": [
    {
     "ename": "TypeError",
     "evalue": "Animal.running() takes 0 positional arguments but 1 was given",
     "output_type": "error",
     "traceback": [
      "\u001b[1;31m---------------------------------------------------------------------------\u001b[0m",
      "\u001b[1;31mTypeError\u001b[0m                                 Traceback (most recent call last)",
      "Cell \u001b[1;32mIn[68], line 10\u001b[0m\n\u001b[0;32m      6\u001b[0m         \u001b[38;5;28mprint\u001b[39m(\u001b[38;5;124m\"\u001b[39m\u001b[38;5;124mI am running\u001b[39m\u001b[38;5;124m\"\u001b[39m)\n\u001b[0;32m      8\u001b[0m \u001b[38;5;28mobject\u001b[39m \u001b[38;5;241m=\u001b[39mAnimal();\n\u001b[1;32m---> 10\u001b[0m \u001b[38;5;28;43mobject\u001b[39;49m\u001b[38;5;241;43m.\u001b[39;49m\u001b[43mrunning\u001b[49m\u001b[43m(\u001b[49m\u001b[43m)\u001b[49m\n",
      "\u001b[1;31mTypeError\u001b[0m: Animal.running() takes 0 positional arguments but 1 was given"
     ]
    }
   ],
   "source": [
    "class Animal:\n",
    "    def walking():\n",
    "        print(\"I am walking\")\n",
    "\n",
    "    def running():\n",
    "        print(\"I am running\")\n",
    "\n",
    "object =Animal();\n",
    "\n",
    "object.running()\n"
   ]
  },
  {
   "cell_type": "code",
   "execution_count": 73,
   "id": "d5d3c402-d6ed-42bb-81ad-ba5a17fba3f4",
   "metadata": {},
   "outputs": [
    {
     "name": "stdout",
     "output_type": "stream",
     "text": [
      "I am walking\n"
     ]
    },
    {
     "data": {
      "text/plain": [
       "<function __main__.eating()>"
      ]
     },
     "execution_count": 73,
     "metadata": {},
     "output_type": "execute_result"
    }
   ],
   "source": [
    "class Animal:\n",
    "    def walking(self): ## with self\n",
    "        print(\"I am walking\")\n",
    "\n",
    "    def running(): ## without self\n",
    "        print(\"I am running\")\n",
    "\n",
    "def eating():\n",
    "    print(\"I am eating\")\n",
    "    \n",
    "object = Animal()\n",
    "function = object.walking\n",
    "type(function)\n",
    "function()\n",
    "eating"
   ]
  },
  {
   "cell_type": "code",
   "execution_count": 74,
   "id": "442b7a93-f0d7-404f-8d29-92ea6e5aef62",
   "metadata": {},
   "outputs": [],
   "source": [
    "class Dog:\n",
    "    def __new__(cls, *args, **kwargs):\n",
    "        print(\"create new object\")\n",
    "        return super().__new__(cls)\n",
    "        \n",
    "    def __init__(self, name, age):\n",
    "        self.name = name\n",
    "        self.age = age\n",
    "        print(\"Intilization of object\")\n",
    "        "
   ]
  },
  {
   "cell_type": "code",
   "execution_count": 75,
   "id": "72bb16cf-ac9b-46ed-81d9-847d0108ebed",
   "metadata": {},
   "outputs": [
    {
     "name": "stdout",
     "output_type": "stream",
     "text": [
      "create new object\n",
      "Intilization of object\n"
     ]
    }
   ],
   "source": [
    "ob = Dog(\"GoodDog\",\"20\")"
   ]
  },
  {
   "cell_type": "code",
   "execution_count": 36,
   "id": "e5063e8d-956a-40cc-a1fc-394f4482f38b",
   "metadata": {},
   "outputs": [
    {
     "name": "stdout",
     "output_type": "stream",
     "text": [
      "20\n",
      "GoodDog\n"
     ]
    }
   ],
   "source": [
    "print(ob.age)\n",
    "print(ob.name)"
   ]
  },
  {
   "cell_type": "code",
   "execution_count": 76,
   "id": "772ffbf9-c447-48b1-b23b-e298dc70aa62",
   "metadata": {},
   "outputs": [],
   "source": [
    "## point.py\n",
    "\n",
    "class Point:\n",
    "    def __new__(cls, *args, **kwargs):\n",
    "        print(\"1. Create a new instance of Point.\")\n",
    "        return super().__new__(cls)\n",
    "\n",
    "    def __init__(self, x, y):\n",
    "        print(\"2. Initialize the new instance of Point.\")\n",
    "        self.x = x\n",
    "        self.y = y\n",
    "\n",
    "    def __repr__(self) -> str:\n",
    "        return f\"{type(self).__name__}(x={self.x}, y={self.y})\"\n",
    "        #return f\"{type(self).__name__}()\""
   ]
  },
  {
   "cell_type": "code",
   "execution_count": 77,
   "id": "4abd6620-469d-41b2-8ece-23cac3298c8c",
   "metadata": {},
   "outputs": [
    {
     "name": "stdout",
     "output_type": "stream",
     "text": [
      "1. Create a new instance of Point.\n",
      "2. Initialize the new instance of Point.\n"
     ]
    },
    {
     "data": {
      "text/plain": [
       "Point(x=21, y=42)"
      ]
     },
     "execution_count": 77,
     "metadata": {},
     "output_type": "execute_result"
    }
   ],
   "source": [
    "#>>> from point import Point\n",
    "\n",
    "point = Point(21, 42)\n",
    "\n",
    "point\n"
   ]
  },
  {
   "cell_type": "code",
   "execution_count": 78,
   "id": "2c565ddc-d7a2-4c6b-9f14-86498148eb91",
   "metadata": {},
   "outputs": [],
   "source": [
    "# ab_classes.py\n",
    "\n",
    "class A:\n",
    "    def __init__(self, a_value):\n",
    "        print(\"Initialize the new instance of A.\")\n",
    "        self.a_value = a_value\n",
    "\n",
    "class B:\n",
    "    def __new__(cls, *args, **kwargs):\n",
    "        return A(42)\n",
    "\n",
    "    def __init__(self, b_value):\n",
    "        print(\"Initialize the new instance of B.\")\n",
    "        self.b_value = b_value"
   ]
  },
  {
   "cell_type": "markdown",
   "id": "1ce450ff-8839-4d72-be3d-dc5aa7125fbc",
   "metadata": {},
   "source": [
    "Because B.__new__() returns an instance of a different class, Python doesn’t run B.__init__(). To confirm this behavior, save the code into a file called ab_classes.py and then run the following code in an interactive Python session:"
   ]
  },
  {
   "cell_type": "code",
   "execution_count": 79,
   "id": "2fabf7ed-6c91-49a0-8c7a-18c460ae3761",
   "metadata": {},
   "outputs": [
    {
     "name": "stdout",
     "output_type": "stream",
     "text": [
      "Initialize the new instance of A.\n",
      "42\n"
     ]
    },
    {
     "ename": "AttributeError",
     "evalue": "'A' object has no attribute 'b_value'",
     "output_type": "error",
     "traceback": [
      "\u001b[1;31m---------------------------------------------------------------------------\u001b[0m",
      "\u001b[1;31mAttributeError\u001b[0m                            Traceback (most recent call last)",
      "Cell \u001b[1;32mIn[79], line 4\u001b[0m\n\u001b[0;32m      2\u001b[0m b \u001b[38;5;241m=\u001b[39m B(\u001b[38;5;241m21\u001b[39m)\n\u001b[0;32m      3\u001b[0m \u001b[38;5;28mprint\u001b[39m(b\u001b[38;5;241m.\u001b[39ma_value)\n\u001b[1;32m----> 4\u001b[0m \u001b[38;5;28mprint\u001b[39m(\u001b[43mb\u001b[49m\u001b[38;5;241;43m.\u001b[39;49m\u001b[43mb_value\u001b[49m) \u001b[38;5;66;03m##this will give error as it is not defined\u001b[39;00m\n",
      "\u001b[1;31mAttributeError\u001b[0m: 'A' object has no attribute 'b_value'"
     ]
    }
   ],
   "source": [
    "#from ab_classes import B\n",
    "b = B(21)\n",
    "print(b.a_value)\n",
    "print(b.b_value) ##this will give error as it is not defined\n"
   ]
  },
  {
   "cell_type": "markdown",
   "id": "c883591b-5918-4d10-9ee6-4010363d0a1f",
   "metadata": {},
   "source": [
    "##Building Flexible Object Initializers\n",
    "You can make your objects’ initialization step flexible and versatile by tweaking the .__init__() method. To this end, one of the most popular techniques is to use optional arguments. This technique allows you to write classes in which the constructor accepts different sets of input arguments at instantiation time. Which arguments to use at a given time will depend on your specific needs and context."
   ]
  },
  {
   "cell_type": "code",
   "execution_count": 89,
   "id": "ef8b7d45-2e64-44ed-a0df-9f2f3963d56b",
   "metadata": {},
   "outputs": [],
   "source": [
    "# greet.py\n",
    "\n",
    "class Greeter:\n",
    "    def __init__(self, name, formal=False):\n",
    "        self.name = name\n",
    "        self.formal = formal\n",
    "\n",
    "    def greet(self):\n",
    "        if self.formal:\n",
    "            print(f\"Good morning, {self.name}!\")\n",
    "        else:\n",
    "            print(f\"Hello, {self.name}!\")"
   ]
  },
  {
   "cell_type": "code",
   "execution_count": 92,
   "id": "fa440e03-98d9-46a1-921e-af8ee55a103a",
   "metadata": {},
   "outputs": [
    {
     "name": "stdout",
     "output_type": "stream",
     "text": [
      "Hello, Pythonista!\n",
      "Good morning, Pythonista!\n"
     ]
    }
   ],
   "source": [
    "#from greet import Greeter\n",
    "informal_greeter = Greeter(\"Pythonista\")\n",
    "informal_greeter.greet()\n",
    "\n",
    "informal_greeter = Greeter(\"Pythonista\",True)\n",
    "informal_greeter.greet()"
   ]
  },
  {
   "cell_type": "markdown",
   "id": "9c597332-faff-4324-afdb-cb4998d049e0",
   "metadata": {},
   "source": [
    "## Inheritance"
   ]
  },
  {
   "cell_type": "code",
   "execution_count": 80,
   "id": "70d79b65-9cd6-48b4-950a-45f42c5ebbe5",
   "metadata": {},
   "outputs": [
    {
     "data": {
      "text/plain": [
       "'John Doe'"
      ]
     },
     "execution_count": 80,
     "metadata": {},
     "output_type": "execute_result"
    }
   ],
   "source": [
    "class Person:\n",
    "     def __init__(self, name, birth_date):\n",
    "         self.name = name\n",
    "         self.birth_date = birth_date\n",
    "\n",
    "\n",
    "class Employee(Person):\n",
    "     def __init__(self, name, birth_date, position):\n",
    "         super().__init__(name, birth_date)\n",
    "         self.position = position\n",
    "\n",
    "\n",
    "john = Employee(\"John Doe\", \"2001-02-07\", \"Python Developer\")\n",
    "\n",
    "john.name"
   ]
  },
  {
   "cell_type": "code",
   "execution_count": 52,
   "id": "f9c06359-bb8a-4358-aa19-29246581583d",
   "metadata": {},
   "outputs": [],
   "source": [
    "# dog.py\n",
    "\n",
    "class Dog:\n",
    "    species = \"Canis familiaris\"\n",
    "\n",
    "    def __init__(self, name, age, breed):\n",
    "        self.name = name\n",
    "        self.age = age\n",
    "        self.breed = breed\n",
    "\n",
    "    def __str__(self):\n",
    "        return f\"{self.name} is {self.age} years old\"\n",
    "\n",
    "    def speak(self, sound):\n",
    "        return f\"{self.name} says {sound}\""
   ]
  },
  {
   "cell_type": "code",
   "execution_count": 53,
   "id": "4e5d9e70-54f8-480a-9007-09880eadc54c",
   "metadata": {},
   "outputs": [],
   "source": [
    "#creating the object for the above class\n",
    "miles = Dog(\"Miles\", 4, \"Jack Russell Terrier\")\n",
    "buddy = Dog(\"Buddy\", 9, \"Dachshund\")"
   ]
  },
  {
   "cell_type": "code",
   "execution_count": 54,
   "id": "26cb3552-2ea8-4021-8557-27dd4f5b6b1a",
   "metadata": {},
   "outputs": [
    {
     "data": {
      "text/plain": [
       "'Miles says hello'"
      ]
     },
     "execution_count": 54,
     "metadata": {},
     "output_type": "execute_result"
    }
   ],
   "source": [
    "miles.speak(\"hello\")"
   ]
  },
  {
   "cell_type": "code",
   "execution_count": 49,
   "id": "5b2eb489-b350-4527-8220-920b27d071ec",
   "metadata": {},
   "outputs": [
    {
     "data": {
      "text/plain": [
       "'Buddy says Yap'"
      ]
     },
     "execution_count": 49,
     "metadata": {},
     "output_type": "execute_result"
    }
   ],
   "source": [
    "buddy.speak(\"Yap\")"
   ]
  },
  {
   "cell_type": "code",
   "execution_count": 60,
   "id": "bfed435c-132f-4039-9cd2-e721c9a26143",
   "metadata": {},
   "outputs": [
    {
     "name": "stdout",
     "output_type": "stream",
     "text": [
      "Buddy is 9 years old\n"
     ]
    }
   ],
   "source": [
    "buddy = Dog(\"Buddy\", 9,\"xyz\")\n",
    "dog_str = buddy.__str__()\n",
    "print(dog_str)"
   ]
  },
  {
   "cell_type": "code",
   "execution_count": 63,
   "id": "20e8e539-58be-4f06-b0b0-6633c5c3e540",
   "metadata": {},
   "outputs": [
    {
     "name": "stdout",
     "output_type": "stream",
     "text": [
      "Buddy is 9 years old\n"
     ]
    }
   ],
   "source": [
    "# Call the __str__ method explicitly\n",
    "## str can be used like built in function \n",
    "## When you use str(buddy) or print(buddy), Python internally looks for the __str__ method of the my_dog object and calls it\n",
    "dog_str = str(buddy)\n",
    "print(dog_str)  # This will print: \"Buddy is 3 years old\"\n"
   ]
  },
  {
   "cell_type": "code",
   "execution_count": 64,
   "id": "2be06452-da42-4d1d-ab96-a983305a3455",
   "metadata": {},
   "outputs": [
    {
     "name": "stdout",
     "output_type": "stream",
     "text": [
      "Buddy is 9 years old\n"
     ]
    }
   ],
   "source": [
    "print(buddy)"
   ]
  },
  {
   "cell_type": "code",
   "execution_count": null,
   "id": "800795ff-461b-47ac-b97a-22d0da39c37d",
   "metadata": {},
   "outputs": [],
   "source": []
  }
 ],
 "metadata": {
  "kernelspec": {
   "display_name": "Python 3 (ipykernel)",
   "language": "python",
   "name": "python3"
  },
  "language_info": {
   "codemirror_mode": {
    "name": "ipython",
    "version": 3
   },
   "file_extension": ".py",
   "mimetype": "text/x-python",
   "name": "python",
   "nbconvert_exporter": "python",
   "pygments_lexer": "ipython3",
   "version": "3.11.8"
  }
 },
 "nbformat": 4,
 "nbformat_minor": 5
}
