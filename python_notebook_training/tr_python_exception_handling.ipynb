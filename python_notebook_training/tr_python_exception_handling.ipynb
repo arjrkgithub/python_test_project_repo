{
 "cells": [
  {
   "cell_type": "markdown",
   "id": "1e1460ff-0065-4978-b5f7-fcf9e9758246",
   "metadata": {},
   "source": [
    "## Exception Handling "
   ]
  },
  {
   "cell_type": "code",
   "execution_count": 13,
   "id": "2f1eb30c-6933-4eb1-bd2d-b5b72f1c9038",
   "metadata": {},
   "outputs": [],
   "source": [
    "import pandas as pd"
   ]
  },
  {
   "cell_type": "code",
   "execution_count": 17,
   "id": "db9d4e05-af79-4f77-bfe0-2b897c5f4560",
   "metadata": {},
   "outputs": [
    {
     "name": "stdout",
     "output_type": "stream",
     "text": [
      "File read is successful!\n",
      "   customer_id  gender  Age  annunal_income  spending_score\n",
      "0            1    Male   19              15              39\n",
      "1            2    Male   21              15              81\n",
      "2            3  Female   20              16               6\n",
      "3            4  Female   23              16              77\n",
      "4            5  Female   31              17              40\n",
      "End of execution\n"
     ]
    }
   ],
   "source": [
    "import pandas as pd\n",
    "try:\n",
    "    # Code block where an exception might occur\n",
    "    file_path = r'C:\\Users\\hp sys\\Downloads\\mall_customers.csv'\n",
    "    df = pd.read_csv(file_path)\n",
    "except :\n",
    "    # Handle the specific exception\n",
    "    print(\"File is not available\")\n",
    "else:\n",
    "    # This block executes if no exception occurred in the try block\n",
    "    print(\"File read is successful!\")\n",
    "    print(df.head(5))\n",
    "finally:\n",
    "    # This block always executes, regardless of exceptions\n",
    "    print(\"End of execution\")\n",
    "    "
   ]
  },
  {
   "cell_type": "code",
   "execution_count": null,
   "id": "0faf0e90-8ca8-4cf8-9987-4d79e262c68e",
   "metadata": {},
   "outputs": [],
   "source": []
  }
 ],
 "metadata": {
  "kernelspec": {
   "display_name": "Python 3 (ipykernel)",
   "language": "python",
   "name": "python3"
  },
  "language_info": {
   "codemirror_mode": {
    "name": "ipython",
    "version": 3
   },
   "file_extension": ".py",
   "mimetype": "text/x-python",
   "name": "python",
   "nbconvert_exporter": "python",
   "pygments_lexer": "ipython3",
   "version": "3.11.8"
  }
 },
 "nbformat": 4,
 "nbformat_minor": 5
}
