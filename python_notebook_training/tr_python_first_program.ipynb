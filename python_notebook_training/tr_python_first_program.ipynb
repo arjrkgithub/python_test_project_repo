{
 "cells": [
  {
   "cell_type": "markdown",
   "id": "1d088454-067e-45b0-a10e-10a84f9d97bb",
   "metadata": {},
   "source": [
    "## First python program"
   ]
  },
  {
   "cell_type": "code",
   "execution_count": 76,
   "id": "12e19f8d-eebd-4b3d-b181-d9db9a946ef0",
   "metadata": {},
   "outputs": [
    {
     "name": "stdout",
     "output_type": "stream",
     "text": [
      "140714884685704\n",
      "2057367382832\n",
      "['one', 'two']\n",
      "2057374265536\n",
      "2057374265536\n",
      "['one', 'two', 'three']\n"
     ]
    }
   ],
   "source": [
    "a=100\n",
    "isinstance(a, int)\n",
    "print(id(a))\n",
    "\n",
    "a =\"adcb\"\n",
    "print(id(a))\n",
    "\n",
    "lst = [\"one\",\"two\"]\n",
    "print(lst)\n",
    "print(id(lst))\n",
    "lst.append(\"three\")\n",
    "print(id(lst))\n",
    "print(lst)\n"
   ]
  },
  {
   "cell_type": "code",
   "execution_count": 66,
   "id": "f83122ff-4e16-40d3-94ac-1f61e425ea5c",
   "metadata": {},
   "outputs": [
    {
     "name": "stdout",
     "output_type": "stream",
     "text": [
      "hello python\n"
     ]
    }
   ],
   "source": [
    "## pip command will be used to install the components which is made by python\n",
    "## python virtual environment - will help us to refer the pyhton library during the developement\n",
    "## hence, venv has to be activated for the python working directory\n",
    "## source code can be deployed as is into uat/production from development \n",
    "\n",
    "## it can run any valid python statement without function/class\n",
    "## any valid python statments will act as starting point\n",
    "## it is not required to implement main method like other programming languages\n",
    "## class, methods and functions are not compulsary for python programs\n",
    "## not required to create the jar or some other form of executables like java/scala/other high level languages\n",
    "\n",
    "print(\"hello python\")\n"
   ]
  },
  {
   "cell_type": "code",
   "execution_count": 3,
   "id": "ad169fb5-3fcc-4dd5-9830-2dd1a70d99f7",
   "metadata": {},
   "outputs": [
    {
     "data": {
      "text/plain": [
       "100"
      ]
     },
     "execution_count": 3,
     "metadata": {},
     "output_type": "execute_result"
    }
   ],
   "source": [
    "100"
   ]
  },
  {
   "cell_type": "code",
   "execution_count": 4,
   "id": "9a6d546d-ad26-4720-a78e-a2dbb584773d",
   "metadata": {},
   "outputs": [],
   "source": [
    "a=100"
   ]
  },
  {
   "cell_type": "code",
   "execution_count": 5,
   "id": "eb041710-d6a4-4767-95f2-2c888edf3ece",
   "metadata": {},
   "outputs": [
    {
     "data": {
      "text/plain": [
       "int"
      ]
     },
     "execution_count": 5,
     "metadata": {},
     "output_type": "execute_result"
    }
   ],
   "source": [
    "type(a)"
   ]
  },
  {
   "cell_type": "markdown",
   "id": "dc7d021a-be1b-4571-80ea-5e71f3fb2e57",
   "metadata": {},
   "source": [
    "### Dynamic Typing: Python's dynamic typing system allows variables to change their type during execution, which simplifies development but requires interpretation to determine variable types at runtime."
   ]
  },
  {
   "cell_type": "code",
   "execution_count": 6,
   "id": "89b47bbb-cb7b-4574-aba6-16b9c8223bbe",
   "metadata": {},
   "outputs": [],
   "source": [
    "a=\"rajkumar\""
   ]
  },
  {
   "cell_type": "code",
   "execution_count": 7,
   "id": "a08ba5e2-88eb-426d-a8d3-da1861e97b77",
   "metadata": {},
   "outputs": [
    {
     "data": {
      "text/plain": [
       "str"
      ]
     },
     "execution_count": 7,
     "metadata": {},
     "output_type": "execute_result"
    }
   ],
   "source": [
    "type(a)"
   ]
  },
  {
   "cell_type": "code",
   "execution_count": 12,
   "id": "36b4d873-e5ed-4021-9103-655666ea5c33",
   "metadata": {},
   "outputs": [
    {
     "data": {
      "text/plain": [
       "2057347694128"
      ]
     },
     "execution_count": 12,
     "metadata": {},
     "output_type": "execute_result"
    }
   ],
   "source": [
    "id(a)  #id"
   ]
  },
  {
   "cell_type": "code",
   "execution_count": 11,
   "id": "b15c696b-0787-4695-abc7-698ad2ad78cb",
   "metadata": {},
   "outputs": [
    {
     "data": {
      "text/plain": [
       "'rajkumar'"
      ]
     },
     "execution_count": 11,
     "metadata": {},
     "output_type": "execute_result"
    }
   ],
   "source": [
    "a  #value"
   ]
  },
  {
   "cell_type": "markdown",
   "id": "856db085-1939-422b-9cab-a4801061c1a2",
   "metadata": {},
   "source": [
    "## immutable"
   ]
  },
  {
   "cell_type": "code",
   "execution_count": 14,
   "id": "2d60b46b-d1dd-4f62-8197-e436611d7137",
   "metadata": {},
   "outputs": [],
   "source": [
    "a =\"Alex\""
   ]
  },
  {
   "cell_type": "code",
   "execution_count": 15,
   "id": "06b6fb7e-b389-433a-a5f5-7f317c833432",
   "metadata": {},
   "outputs": [
    {
     "data": {
      "text/plain": [
       "2057347674864"
      ]
     },
     "execution_count": 15,
     "metadata": {},
     "output_type": "execute_result"
    }
   ],
   "source": [
    "id(a)"
   ]
  },
  {
   "cell_type": "markdown",
   "id": "43180e55-05a5-4827-9cf6-5fb207cc7c32",
   "metadata": {},
   "source": [
    "## mutable"
   ]
  },
  {
   "cell_type": "code",
   "execution_count": 19,
   "id": "737f3054-1431-4e57-b8c8-0bf2d3154fc0",
   "metadata": {},
   "outputs": [
    {
     "name": "stdout",
     "output_type": "stream",
     "text": [
      "2057368123840\n",
      "2057368123840\n",
      "2057368123840\n"
     ]
    }
   ],
   "source": [
    "namesList =[\"one\",\"two\",\"three\"]\n",
    "print(id(namesList))\n",
    "namesList.append(\"four\")\n",
    "print(id(namesList))\n",
    "newList =namesList\n",
    "print(id(newList))"
   ]
  },
  {
   "cell_type": "code",
   "execution_count": 24,
   "id": "9d46dd0d-b3f9-4602-9e52-8ac4769f5c9b",
   "metadata": {},
   "outputs": [],
   "source": [
    "#write a function\n",
    "def myfunction():\n",
    "    pass\n",
    "\n",
    "\n",
    "\n"
   ]
  },
  {
   "cell_type": "code",
   "execution_count": 25,
   "id": "dc3a2eb8-469e-4fb4-91ed-807e1156099a",
   "metadata": {},
   "outputs": [],
   "source": [
    "#write a function\n",
    "def myfunction():\n",
    "    print(\"hello how are you ?\")"
   ]
  },
  {
   "cell_type": "code",
   "execution_count": 26,
   "id": "349800f6-213e-4921-9c67-5973ff808e15",
   "metadata": {},
   "outputs": [
    {
     "name": "stdout",
     "output_type": "stream",
     "text": [
      "hello how are you ?\n"
     ]
    }
   ],
   "source": [
    "myfunction()"
   ]
  },
  {
   "cell_type": "markdown",
   "id": "2d3c7b1f-dd46-4d75-9bf4-67f7735622da",
   "metadata": {},
   "source": [
    "### functioun with named arguments"
   ]
  },
  {
   "cell_type": "code",
   "execution_count": 30,
   "id": "5acdcec3-2727-4882-b09a-866c959ae993",
   "metadata": {},
   "outputs": [],
   "source": [
    "def myfunction(str):\n",
    "    print(str)"
   ]
  },
  {
   "cell_type": "code",
   "execution_count": 31,
   "id": "e2372c35-8314-4a74-8e1c-444c54dc2ac8",
   "metadata": {},
   "outputs": [
    {
     "name": "stdout",
     "output_type": "stream",
     "text": [
      "hello, how are you ?\n"
     ]
    }
   ],
   "source": [
    "myfunction(\"hello, how are you ?\")"
   ]
  },
  {
   "cell_type": "markdown",
   "id": "0378c476-1197-4774-a944-56cb47459cbc",
   "metadata": {},
   "source": [
    "### function with postional arguments"
   ]
  },
  {
   "cell_type": "code",
   "execution_count": 36,
   "id": "96fc5fd6-14df-416b-8108-d83e274b042b",
   "metadata": {},
   "outputs": [],
   "source": [
    "def myfunction(*args):\n",
    "    for arg in args:\n",
    "        print(arg)"
   ]
  },
  {
   "cell_type": "code",
   "execution_count": 39,
   "id": "5dca3f86-1db3-4593-ae55-839180be8006",
   "metadata": {},
   "outputs": [
    {
     "name": "stdout",
     "output_type": "stream",
     "text": [
      "100\n",
      "rajkumar\n",
      "source_a\n"
     ]
    }
   ],
   "source": [
    "myfunction(100,\"rajkumar\",\"source_a\")"
   ]
  },
  {
   "cell_type": "markdown",
   "id": "4dd174ff-21a7-476e-a7f1-f9e632b2fd01",
   "metadata": {},
   "source": [
    "### function parameter in key , value format"
   ]
  },
  {
   "cell_type": "code",
   "execution_count": 48,
   "id": "4ba85e8a-8a42-49d5-b019-af40b637c981",
   "metadata": {},
   "outputs": [],
   "source": [
    "def myfunction(**args):\n",
    "    for (key,value) in args.items():\n",
    "        print(f\"{key} -> {value}\")\n",
    "        "
   ]
  },
  {
   "cell_type": "code",
   "execution_count": 49,
   "id": "f4aaf522-2196-4cea-a333-9fb201b16450",
   "metadata": {},
   "outputs": [
    {
     "name": "stdout",
     "output_type": "stream",
     "text": [
      "x -> 100\n",
      "y -> 200\n",
      "z -> 300\n"
     ]
    }
   ],
   "source": [
    "myfunction(x=100,y=200,z=300)"
   ]
  },
  {
   "cell_type": "code",
   "execution_count": 50,
   "id": "13fdba9a-09a1-45e1-be2f-0ab46098e780",
   "metadata": {},
   "outputs": [
    {
     "name": "stdout",
     "output_type": "stream",
     "text": [
      "one -> 1\n",
      "two -> 2\n",
      "three -> 3\n"
     ]
    }
   ],
   "source": [
    "myfunction(one=1,two=2,three=3)"
   ]
  },
  {
   "cell_type": "code",
   "execution_count": 51,
   "id": "4052f105-b019-4c0c-a58f-e150d3905232",
   "metadata": {},
   "outputs": [
    {
     "name": "stdout",
     "output_type": "stream",
     "text": [
      "id -> 100\n",
      "name -> rajkumar\n",
      "marks -> [90, 80, 100, 75, 85]\n"
     ]
    }
   ],
   "source": [
    "myfunction(id=100,name=\"rajkumar\",marks=[90,80,100,75,85])"
   ]
  },
  {
   "cell_type": "code",
   "execution_count": null,
   "id": "95abb75e-4bd1-42e7-882f-140649a24dfd",
   "metadata": {},
   "outputs": [],
   "source": []
  }
 ],
 "metadata": {
  "kernelspec": {
   "display_name": "Python 3 (ipykernel)",
   "language": "python",
   "name": "python3"
  },
  "language_info": {
   "codemirror_mode": {
    "name": "ipython",
    "version": 3
   },
   "file_extension": ".py",
   "mimetype": "text/x-python",
   "name": "python",
   "nbconvert_exporter": "python",
   "pygments_lexer": "ipython3",
   "version": "3.11.8"
  }
 },
 "nbformat": 4,
 "nbformat_minor": 5
}
