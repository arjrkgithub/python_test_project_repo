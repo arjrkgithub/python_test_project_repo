{
 "cells": [
  {
   "cell_type": "markdown",
   "id": "2e58cc0b-7128-4516-8b5f-82b6a4ed3fef",
   "metadata": {},
   "source": [
    "## Functional Programming\n",
    "### To take another function as an argument\n",
    "### To return another function to its caller"
   ]
  },
  {
   "cell_type": "code",
   "execution_count": 1,
   "id": "b780be5d-4d42-4acf-b581-2610a719b3bf",
   "metadata": {},
   "outputs": [],
   "source": [
    "def func():\n",
    "    print(\"I am function func()!\")"
   ]
  },
  {
   "cell_type": "code",
   "execution_count": 2,
   "id": "50d08427-1bf3-4654-8909-75ee10a600b9",
   "metadata": {},
   "outputs": [
    {
     "name": "stdout",
     "output_type": "stream",
     "text": [
      "I am function func()!\n"
     ]
    }
   ],
   "source": [
    "func()"
   ]
  },
  {
   "cell_type": "code",
   "execution_count": 3,
   "id": "0cb20e57-49ae-44c2-b195-e4a5fff7d5ac",
   "metadata": {},
   "outputs": [],
   "source": [
    "another_name = func"
   ]
  },
  {
   "cell_type": "code",
   "execution_count": 4,
   "id": "4d02322e-9840-4268-8b4a-4111a3250cee",
   "metadata": {},
   "outputs": [
    {
     "name": "stdout",
     "output_type": "stream",
     "text": [
      "I am function func()!\n"
     ]
    }
   ],
   "source": [
    "another_name()"
   ]
  },
  {
   "cell_type": "code",
   "execution_count": 6,
   "id": "063f8f1a-1713-4f5e-b71b-8c7cf236673f",
   "metadata": {},
   "outputs": [],
   "source": [
    "def inner():\n",
    "    print(\"I am function inner()!\")"
   ]
  },
  {
   "cell_type": "code",
   "execution_count": 7,
   "id": "dec52305-b0bf-4346-a442-17f24524a5b6",
   "metadata": {},
   "outputs": [],
   "source": [
    "def outer(function):\n",
    "    function()"
   ]
  },
  {
   "cell_type": "code",
   "execution_count": 8,
   "id": "1a6ccb1b-3809-4926-b1f6-7da03d79c01e",
   "metadata": {},
   "outputs": [
    {
     "name": "stdout",
     "output_type": "stream",
     "text": [
      "I am function inner()!\n"
     ]
    }
   ],
   "source": [
    "parameter=inner\n",
    "outer(inner)"
   ]
  },
  {
   "cell_type": "markdown",
   "id": "388164a4-8071-44a2-b95a-8478d626713f",
   "metadata": {},
   "source": [
    "## Defining an Anonymous Function With lambda\n"
   ]
  },
  {
   "cell_type": "code",
   "execution_count": null,
   "id": "5d80d4a4-1f3e-4638-a2ed-71608c47e03e",
   "metadata": {},
   "outputs": [],
   "source": [
    "### lambda <parameter_list>: <expression>\n"
   ]
  },
  {
   "cell_type": "code",
   "execution_count": 10,
   "id": "a6abfc98-b2dd-41f7-a2cb-e692f3fc1b3f",
   "metadata": {},
   "outputs": [
    {
     "data": {
      "text/plain": [
       "<function __main__.<lambda>(s)>"
      ]
     },
     "execution_count": 10,
     "metadata": {},
     "output_type": "execute_result"
    }
   ],
   "source": [
    " lambda s: s[::-1]"
   ]
  },
  {
   "cell_type": "code",
   "execution_count": 11,
   "id": "f70d2b45-a52d-46d2-9dcd-d23971026909",
   "metadata": {},
   "outputs": [
    {
     "data": {
      "text/plain": [
       "True"
      ]
     },
     "execution_count": 11,
     "metadata": {},
     "output_type": "execute_result"
    }
   ],
   "source": [
    "callable(lambda s: s[::-1])"
   ]
  },
  {
   "cell_type": "code",
   "execution_count": 12,
   "id": "27a35c96-b942-4a7c-bd32-686bc6f2fa36",
   "metadata": {},
   "outputs": [
    {
     "data": {
      "text/plain": [
       "'gnirts a ma I'"
      ]
     },
     "execution_count": 12,
     "metadata": {},
     "output_type": "execute_result"
    }
   ],
   "source": [
    "def reverse(s):\n",
    "   return s[::-1]\n",
    "\n",
    "reverse(\"I am a string\")"
   ]
  },
  {
   "cell_type": "code",
   "execution_count": 28,
   "id": "6226b200-9b34-49e7-93f2-0a6a21ef3a46",
   "metadata": {},
   "outputs": [
    {
     "data": {
      "text/plain": [
       "'gnirts a ma I'"
      ]
     },
     "execution_count": 28,
     "metadata": {},
     "output_type": "execute_result"
    }
   ],
   "source": [
    "(lambda s: s[::-1])(\"I am a string\")"
   ]
  },
  {
   "cell_type": "code",
   "execution_count": 17,
   "id": "5fbe60fa-5268-4215-a636-93b5be5e5e89",
   "metadata": {},
   "outputs": [
    {
     "data": {
      "text/plain": [
       "'h'"
      ]
     },
     "execution_count": 17,
     "metadata": {},
     "output_type": "execute_result"
    }
   ],
   "source": [
    "\"hello\"[0:10:9]"
   ]
  },
  {
   "cell_type": "markdown",
   "id": "b0a3f5ec-ae5a-4b80-9525-18a33887a568",
   "metadata": {},
   "source": [
    "## map method"
   ]
  },
  {
   "cell_type": "code",
   "execution_count": 18,
   "id": "4e1a6d34-e93e-4c45-bcea-c007ea7a4d70",
   "metadata": {},
   "outputs": [
    {
     "name": "stdout",
     "output_type": "stream",
     "text": [
      "1100.0\n",
      "2200.0\n",
      "3300.0\n",
      "4400.0\n",
      "5500.0\n"
     ]
    }
   ],
   "source": [
    "# map(<f>, <iterable>)\n",
    "\n",
    "nums =[1000,2000,3000,4000,5000]\n",
    "increment = lambda n : (n + (n / 10))\n",
    "new_nums = map(increment,nums)\n",
    "for num in new_nums:\n",
    "    print(num)\n",
    "    "
   ]
  },
  {
   "cell_type": "code",
   "execution_count": 37,
   "id": "85462b22-f379-4222-97e8-cc6eb90178b4",
   "metadata": {},
   "outputs": [
    {
     "name": "stdout",
     "output_type": "stream",
     "text": [
      " elppa reverse of apple\n",
      " egnaro reverse of orange\n",
      " separg reverse of grapes\n"
     ]
    },
    {
     "data": {
      "text/plain": [
       "[]"
      ]
     },
     "execution_count": 37,
     "metadata": {},
     "output_type": "execute_result"
    }
   ],
   "source": [
    "fruits =[\"apple\",\"orange\",\"grapes\"]\n",
    "rev_fruits = map(reverse,fruits)\n",
    "for fruit in rev_fruits:\n",
    "    print(f\" {fruit} reverse of {reverse(fruit)}\" )"
   ]
  },
  {
   "cell_type": "code",
   "execution_count": 19,
   "id": "fa564061-1b43-417b-894b-3e0a31f12bb0",
   "metadata": {},
   "outputs": [
    {
     "name": "stdout",
     "output_type": "stream",
     "text": [
      "<class 'map'>\n"
     ]
    },
    {
     "data": {
      "text/plain": [
       "['elppa', 'egnaro', 'separg']"
      ]
     },
     "execution_count": 19,
     "metadata": {},
     "output_type": "execute_result"
    }
   ],
   "source": [
    "fruits =[\"apple\",\"orange\",\"grapes\"]\n",
    "rev_fruits = map(reverse,fruits)\n",
    "print(type(rev_fruits))\n",
    "list(rev_fruits)"
   ]
  },
  {
   "cell_type": "code",
   "execution_count": 40,
   "id": "4555d0a3-5571-4110-b291-c826107ce59f",
   "metadata": {},
   "outputs": [
    {
     "data": {
      "text/plain": [
       "['elppa', 'egnaro', 'separg']"
      ]
     },
     "execution_count": 40,
     "metadata": {},
     "output_type": "execute_result"
    }
   ],
   "source": [
    "##syntactic sugar\n",
    "fruits =[\"apple\",\"orange\",\"grapes\"]\n",
    "list(map(lambda s: s[::-1],fruits))"
   ]
  },
  {
   "cell_type": "code",
   "execution_count": 45,
   "id": "2a5b0557-c1df-4938-926a-a031ed653fa2",
   "metadata": {},
   "outputs": [
    {
     "data": {
      "text/plain": [
       "['1 is January', '2 is February', '3 is March']"
      ]
     },
     "execution_count": 45,
     "metadata": {},
     "output_type": "execute_result"
    }
   ],
   "source": [
    "##lambda with multilple parameters\n",
    "list(map ((lambda a, b: f\"{a} is {b}\" ), [\"1\",\"2\",\"3\"],[\"January\",\"February\",\"March\"]))"
   ]
  },
  {
   "cell_type": "code",
   "execution_count": 9,
   "id": "197b135f-8b32-40af-82c9-bf3487d62a4d",
   "metadata": {},
   "outputs": [
    {
     "name": "stdout",
     "output_type": "stream",
     "text": [
      "10\n",
      "hello\n",
      "30\n",
      "60\n"
     ]
    }
   ],
   "source": [
    "def myfun(*args):\n",
    "    for arg in args:\n",
    "        print(arg)\n",
    "\n",
    "myfun(10,\"hello\",30,60)"
   ]
  },
  {
   "cell_type": "code",
   "execution_count": 10,
   "id": "4387aac3-34d0-4c68-809f-a09047779b78",
   "metadata": {},
   "outputs": [
    {
     "data": {
      "text/plain": [
       "['MONDAY', 'TUESDAY', 'WEDNESDAY']"
      ]
     },
     "execution_count": 10,
     "metadata": {},
     "output_type": "execute_result"
    }
   ],
   "source": [
    "day_list = [\"monday\",\"tuesday\",\"wednesday\"]\n",
    "list(map(lambda s : s.upper(),day_list))"
   ]
  },
  {
   "cell_type": "code",
   "execution_count": 11,
   "id": "8afbc6e0-4b07-44eb-a111-d82f00cef551",
   "metadata": {},
   "outputs": [
    {
     "data": {
      "text/plain": [
       "'HELLO'"
      ]
     },
     "execution_count": 11,
     "metadata": {},
     "output_type": "execute_result"
    }
   ],
   "source": [
    "\"hello\".upper()"
   ]
  },
  {
   "cell_type": "code",
   "execution_count": null,
   "id": "2978b6e7-b5ba-4cb7-a10d-c4a7d5274174",
   "metadata": {},
   "outputs": [],
   "source": []
  }
 ],
 "metadata": {
  "kernelspec": {
   "display_name": "Python 3 (ipykernel)",
   "language": "python",
   "name": "python3"
  },
  "language_info": {
   "codemirror_mode": {
    "name": "ipython",
    "version": 3
   },
   "file_extension": ".py",
   "mimetype": "text/x-python",
   "name": "python",
   "nbconvert_exporter": "python",
   "pygments_lexer": "ipython3",
   "version": "3.11.8"
  }
 },
 "nbformat": 4,
 "nbformat_minor": 5
}
