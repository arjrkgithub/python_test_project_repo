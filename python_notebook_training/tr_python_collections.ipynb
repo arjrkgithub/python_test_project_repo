{
 "cells": [
  {
   "cell_type": "markdown",
   "id": "a59d7e09-3f1d-4446-99f1-133ce4f358f9",
   "metadata": {},
   "source": [
    "## Dictionary"
   ]
  },
  {
   "cell_type": "code",
   "execution_count": null,
   "id": "0052332d-c32a-4254-92d6-c07233b7e199",
   "metadata": {
    "is_executing": true
   },
   "outputs": [],
   "source": [
    "\n",
    "\n",
    "d = {'k1' : 'rajkumar', 'k2' : [0,1,2,3], 'k3' :[{'name':\"venkat123\",'contact': 898989},{'name':'rajkumar','contact': '0898989'}]}\n",
    "    "
   ]
  },
  {
   "cell_type": "code",
   "execution_count": null,
   "id": "a0e7c347-813e-42ba-98d5-66f53367103c",
   "metadata": {
    "is_executing": true
   },
   "outputs": [],
   "source": [
    "(d['k3'][0]['contact'])"
   ]
  },
  {
   "cell_type": "code",
   "execution_count": 45,
   "id": "4766b5d7-d270-4dc0-a94e-2882bc70d6b8",
   "metadata": {},
   "outputs": [
    {
     "data": {
      "text/plain": [
       "dict_keys(['k1', 'k2', 'k3'])"
      ]
     },
     "execution_count": 45,
     "metadata": {},
     "output_type": "execute_result"
    }
   ],
   "source": [
    "d.keys()"
   ]
  },
  {
   "cell_type": "code",
   "execution_count": 46,
   "id": "88404d29-b3d1-481b-af59-4dc4a71c9cb3",
   "metadata": {},
   "outputs": [
    {
     "data": {
      "text/plain": [
       "dict_values(['rajkumar', [0, 1, 2, 3], [{'name': 'venkat123', 'contact': 898989}, {'name': 'rajkumar', 'contact': '0898989'}]])"
      ]
     },
     "execution_count": 46,
     "metadata": {},
     "output_type": "execute_result"
    }
   ],
   "source": [
    "d.values()"
   ]
  },
  {
   "cell_type": "code",
   "execution_count": 27,
   "id": "f35284ee-19d5-4b3e-befc-9224448b7e4d",
   "metadata": {},
   "outputs": [],
   "source": [
    "d['k4'] ='adding new element'"
   ]
  },
  {
   "cell_type": "code",
   "execution_count": 15,
   "id": "13212580-eeb9-4793-bc5e-96bafbc831a6",
   "metadata": {},
   "outputs": [
    {
     "data": {
      "text/plain": [
       "{'k1': 'rajkumar',\n",
       " 'k2': [0, 1, 2, 3],\n",
       " 'k3': [{'name': 'venkat123', 'contact': '0898989'},\n",
       "  {'name': 'rajkumar', 'contact': '0898989'}]}"
      ]
     },
     "execution_count": 15,
     "metadata": {},
     "output_type": "execute_result"
    }
   ],
   "source": [
    "d"
   ]
  },
  {
   "cell_type": "code",
   "execution_count": 29,
   "id": "c4f27cb3-6a8b-4c29-9717-f13036e051e4",
   "metadata": {},
   "outputs": [
    {
     "data": {
      "text/plain": [
       "dict_keys(['k1', 'k2', 'k3', 'k4'])"
      ]
     },
     "execution_count": 29,
     "metadata": {},
     "output_type": "execute_result"
    }
   ],
   "source": [
    "d.keys()"
   ]
  },
  {
   "cell_type": "code",
   "execution_count": 30,
   "id": "d928a7fb-acea-4dc4-baef-69829925e4df",
   "metadata": {},
   "outputs": [
    {
     "data": {
      "text/plain": [
       "dict_values(['rajkumar', [0, 1, 2, 3], [{'name': 'venkat', 'contact': '0898989'}, {'name': 'rajkumar', 'contact': '0898989'}], 'adding new element'])"
      ]
     },
     "execution_count": 30,
     "metadata": {},
     "output_type": "execute_result"
    }
   ],
   "source": [
    "d.values()"
   ]
  },
  {
   "cell_type": "code",
   "execution_count": 16,
   "id": "089a5d06-4163-4c7c-9107-71d91851c35a",
   "metadata": {},
   "outputs": [
    {
     "data": {
      "text/plain": [
       "dict_items([('k1', 'rajkumar'), ('k2', [0, 1, 2, 3]), ('k3', [{'name': 'venkat123', 'contact': '0898989'}, {'name': 'rajkumar', 'contact': '0898989'}])])"
      ]
     },
     "execution_count": 16,
     "metadata": {},
     "output_type": "execute_result"
    }
   ],
   "source": [
    "d.items()"
   ]
  },
  {
   "cell_type": "code",
   "execution_count": 30,
   "id": "80d1d754-d563-4f7d-aae4-82be71798bb5",
   "metadata": {},
   "outputs": [
    {
     "name": "stdout",
     "output_type": "stream",
     "text": [
      "('k1', 'rajkumar')\n",
      "('k2', [0, 1, 2, 3])\n",
      "('k3', [{'name': 'venkat123', 'contact': '0898989'}, {'name': 'rajkumar', 'contact': '0898989'}])\n"
     ]
    }
   ],
   "source": [
    "d2 = d.items()\n",
    "type(d)\n",
    "type(d2)\n",
    "for x in d2:\n",
    "    print(x)"
   ]
  },
  {
   "cell_type": "code",
   "execution_count": 31,
   "id": "45a93ff5-8197-4a25-a06f-0210aa00efdd",
   "metadata": {},
   "outputs": [],
   "source": [
    "mon ={'jan':1,'feb':2}"
   ]
  },
  {
   "cell_type": "code",
   "execution_count": 52,
   "id": "41e4c485-b210-4125-b69a-3b7e883252bd",
   "metadata": {},
   "outputs": [
    {
     "data": {
      "text/plain": [
       "1"
      ]
     },
     "execution_count": 52,
     "metadata": {},
     "output_type": "execute_result"
    }
   ],
   "source": [
    "{'jan':1,'feb':2}['jan']"
   ]
  },
  {
   "cell_type": "markdown",
   "id": "321099b6-f71e-48de-97f4-60253c650cce",
   "metadata": {},
   "source": [
    "## Tuples"
   ]
  },
  {
   "cell_type": "code",
   "execution_count": 33,
   "id": "576dd035-63b4-41c8-ac41-72060d411568",
   "metadata": {},
   "outputs": [],
   "source": [
    "tup =(100,200,300,400,500)"
   ]
  },
  {
   "cell_type": "code",
   "execution_count": 35,
   "id": "e5ba4816-60a7-421c-9e40-396a9ea18a38",
   "metadata": {},
   "outputs": [
    {
     "data": {
      "text/plain": [
       "500"
      ]
     },
     "execution_count": 35,
     "metadata": {},
     "output_type": "execute_result"
    }
   ],
   "source": [
    "tup[1]\n",
    "tup[-1]"
   ]
  },
  {
   "cell_type": "code",
   "execution_count": 32,
   "id": "4d3e59e6-3753-4b02-a742-00abc9e13fad",
   "metadata": {},
   "outputs": [
    {
     "data": {
      "text/plain": [
       "tuple"
      ]
     },
     "execution_count": 32,
     "metadata": {},
     "output_type": "execute_result"
    }
   ],
   "source": [
    "tupstr=('rajkumar','kumar','venkat','hello','venkatprasath')\n",
    "type(tupstr\n",
    "    datafrae = t1,t2,t3\n",
    "\n",
    "     \n",
    "    "
   ]
  },
  {
   "cell_type": "code",
   "execution_count": 37,
   "id": "cd6bbc8a-0e6c-42a2-a9df-768db4ed7a57",
   "metadata": {},
   "outputs": [
    {
     "data": {
      "text/plain": [
       "1"
      ]
     },
     "execution_count": 37,
     "metadata": {},
     "output_type": "execute_result"
    }
   ],
   "source": [
    "tupstr.count('venkat')"
   ]
  },
  {
   "cell_type": "code",
   "execution_count": 38,
   "id": "77ed027b-eb5e-4a96-b3e9-ca1a8d3fd5d3",
   "metadata": {},
   "outputs": [
    {
     "data": {
      "text/plain": [
       "1"
      ]
     },
     "execution_count": 38,
     "metadata": {},
     "output_type": "execute_result"
    }
   ],
   "source": [
    "tupstr.index('kumar')"
   ]
  },
  {
   "cell_type": "code",
   "execution_count": 42,
   "id": "27ab494d-9750-42fe-978e-042ade78ca2d",
   "metadata": {},
   "outputs": [
    {
     "ename": "TypeError",
     "evalue": "'tuple' object does not support item assignment",
     "output_type": "error",
     "traceback": [
      "\u001B[1;31m---------------------------------------------------------------------------\u001B[0m",
      "\u001B[1;31mTypeError\u001B[0m                                 Traceback (most recent call last)",
      "Cell \u001B[1;32mIn[42], line 1\u001B[0m\n\u001B[1;32m----> 1\u001B[0m \u001B[43mtupstr\u001B[49m\u001B[43m[\u001B[49m\u001B[38;5;241;43m6\u001B[39;49m\u001B[43m]\u001B[49m\u001B[38;5;241m=\u001B[39m\u001B[38;5;124m'\u001B[39m\u001B[38;5;124mmanokumar\u001B[39m\u001B[38;5;124m'\u001B[39m\n",
      "\u001B[1;31mTypeError\u001B[0m: 'tuple' object does not support item assignment"
     ]
    }
   ],
   "source": [
    "tupstr[6]='manokumar'"
   ]
  },
  {
   "cell_type": "markdown",
   "id": "073ea27c-d4a9-41f4-ba8e-7f51924ed047",
   "metadata": {},
   "source": [
    "## Set"
   ]
  },
  {
   "cell_type": "code",
   "execution_count": 63,
   "id": "a0a241b4-905d-44c5-b917-6e2bb07ac790",
   "metadata": {},
   "outputs": [],
   "source": [
    "s1 = set()"
   ]
  },
  {
   "cell_type": "code",
   "execution_count": 64,
   "id": "dc2c630c-a7b8-4627-b7c4-b48b52f6f8f6",
   "metadata": {},
   "outputs": [],
   "source": [
    "s1.add(100)"
   ]
  },
  {
   "cell_type": "code",
   "execution_count": 65,
   "id": "ae9daff2-fb52-439b-96bf-9eac0ab03cc3",
   "metadata": {},
   "outputs": [],
   "source": [
    "s1.add(200)"
   ]
  },
  {
   "cell_type": "code",
   "execution_count": 5,
   "id": "00522709-931c-4e69-93d6-de3bbf38913a",
   "metadata": {},
   "outputs": [
    {
     "data": {
      "text/plain": [
       "{100, 200}"
      ]
     },
     "execution_count": 5,
     "metadata": {},
     "output_type": "execute_result"
    }
   ],
   "source": [
    "s1"
   ]
  },
  {
   "cell_type": "code",
   "execution_count": 75,
   "id": "a806c579-9f24-4815-aaf1-a521e9317145",
   "metadata": {},
   "outputs": [
    {
     "data": {
      "text/plain": [
       "{100, 200}"
      ]
     },
     "execution_count": 75,
     "metadata": {},
     "output_type": "execute_result"
    }
   ],
   "source": [
    "s1.add(200)\n",
    "s1"
   ]
  },
  {
   "cell_type": "code",
   "execution_count": 66,
   "id": "7dde1051-11ce-4eeb-9aa8-a4c52cdc373b",
   "metadata": {},
   "outputs": [],
   "source": [
    "l1 =[100,200,300,300,400,400]\n",
    "s2 = set(l1)"
   ]
  },
  {
   "cell_type": "code",
   "execution_count": 9,
   "id": "7f9b8cbb-707d-48fa-ad88-0f8e4458f0ef",
   "metadata": {},
   "outputs": [
    {
     "data": {
      "text/plain": [
       "{100, 200, 300, 400}"
      ]
     },
     "execution_count": 9,
     "metadata": {},
     "output_type": "execute_result"
    }
   ],
   "source": [
    "s2"
   ]
  },
  {
   "cell_type": "code",
   "execution_count": 15,
   "id": "acc209ed-c371-45fb-9ef7-09ffc7dd4d8b",
   "metadata": {},
   "outputs": [
    {
     "name": "stdout",
     "output_type": "stream",
     "text": [
      "2823362244480\n",
      "{'hello', 'UAE'}\n",
      "2823362247392\n",
      "{'S', 'R', 'U'}\n"
     ]
    }
   ],
   "source": [
    "l2 =['UAE','UAE','hello']\n",
    "s3 =set(l2)\n",
    "print(id(s3))\n",
    "print(s3)\n",
    "s3=set('USSR')\n",
    "print(id(s3))\n",
    "print(s3)"
   ]
  },
  {
   "cell_type": "code",
   "execution_count": 68,
   "id": "1106dd10-0686-433f-a55a-5d65be029271",
   "metadata": {
    "scrolled": true
   },
   "outputs": [
    {
     "name": "stdout",
     "output_type": "stream",
     "text": [
      "{'M', 'p', 's', 'i'}\n"
     ]
    }
   ],
   "source": [
    "print(s3)"
   ]
  },
  {
   "cell_type": "markdown",
   "id": "eef8e386-e6d4-4930-92a7-4fd8e7147dcf",
   "metadata": {},
   "source": [
    "## Strings"
   ]
  },
  {
   "cell_type": "code",
   "execution_count": 29,
   "id": "26f85682-0e5f-4812-830b-dc1d251bed31",
   "metadata": {},
   "outputs": [],
   "source": [
    "s='rajkumar'"
   ]
  },
  {
   "cell_type": "code",
   "execution_count": 17,
   "id": "821ceef7-45aa-4764-a4fe-a0d422068efa",
   "metadata": {},
   "outputs": [
    {
     "data": {
      "text/plain": [
       "' rajkumar'"
      ]
     },
     "execution_count": 17,
     "metadata": {},
     "output_type": "execute_result"
    }
   ],
   "source": [
    "s"
   ]
  },
  {
   "cell_type": "code",
   "execution_count": 9,
   "id": "cab17e5a-fc96-4acf-a05d-58c2e8c91daa",
   "metadata": {},
   "outputs": [
    {
     "ename": "NameError",
     "evalue": "name 'upper' is not defined",
     "output_type": "error",
     "traceback": [
      "\u001B[1;31m---------------------------------------------------------------------------\u001B[0m",
      "\u001B[1;31mNameError\u001B[0m                                 Traceback (most recent call last)",
      "Cell \u001B[1;32mIn[9], line 1\u001B[0m\n\u001B[1;32m----> 1\u001B[0m \u001B[43mupper\u001B[49m(s)\n",
      "\u001B[1;31mNameError\u001B[0m: name 'upper' is not defined"
     ]
    }
   ],
   "source": [
    "upper(s)"
   ]
  },
  {
   "cell_type": "code",
   "execution_count": 18,
   "id": "c737df7c-1871-4174-94d4-d08ad17f291c",
   "metadata": {},
   "outputs": [
    {
     "data": {
      "text/plain": [
       "str"
      ]
     },
     "execution_count": 18,
     "metadata": {},
     "output_type": "execute_result"
    }
   ],
   "source": [
    "type(s)"
   ]
  },
  {
   "cell_type": "code",
   "execution_count": 19,
   "id": "a0c31675-2674-438e-be37-063977f692af",
   "metadata": {},
   "outputs": [
    {
     "data": {
      "text/plain": [
       "' RAJKUMAR'"
      ]
     },
     "execution_count": 19,
     "metadata": {},
     "output_type": "execute_result"
    }
   ],
   "source": [
    "s.upper()"
   ]
  },
  {
   "cell_type": "code",
   "execution_count": 51,
   "id": "0d45c3b7-29e6-4908-90c9-7124baa42217",
   "metadata": {},
   "outputs": [
    {
     "data": {
      "text/plain": [
       "2"
      ]
     },
     "execution_count": 51,
     "metadata": {},
     "output_type": "execute_result"
    }
   ],
   "source": [
    "s.lstrip()\n",
    "s.count(\"r\")"
   ]
  },
  {
   "cell_type": "code",
   "execution_count": 30,
   "id": "f32bb940-bf0c-4313-8555-d65d1af5fe93",
   "metadata": {},
   "outputs": [
    {
     "data": {
      "text/plain": [
       "'rjua'"
      ]
     },
     "execution_count": 30,
     "metadata": {},
     "output_type": "execute_result"
    }
   ],
   "source": [
    "s[::2]"
   ]
  },
  {
   "cell_type": "code",
   "execution_count": 22,
   "id": "05a27110-4ac6-441b-a860-699ced386da1",
   "metadata": {},
   "outputs": [
    {
     "data": {
      "text/plain": [
       "'rmka'"
      ]
     },
     "execution_count": 22,
     "metadata": {},
     "output_type": "execute_result"
    }
   ],
   "source": [
    "s[::-2]"
   ]
  },
  {
   "cell_type": "code",
   "execution_count": 131,
   "id": "fd4e10be-b32a-4679-8345-2536d4af47b2",
   "metadata": {},
   "outputs": [
    {
     "data": {
      "text/plain": [
       "'kuma'"
      ]
     },
     "execution_count": 131,
     "metadata": {},
     "output_type": "execute_result"
    }
   ],
   "source": [
    "s[3:7]"
   ]
  },
  {
   "cell_type": "code",
   "execution_count": 132,
   "id": "4e0fdf16-9a1c-42f4-89ac-8a998ffedcc4",
   "metadata": {},
   "outputs": [
    {
     "data": {
      "text/plain": [
       "'rajkumar'"
      ]
     },
     "execution_count": 132,
     "metadata": {},
     "output_type": "execute_result"
    }
   ],
   "source": [
    "s[::]"
   ]
  },
  {
   "cell_type": "code",
   "execution_count": 3,
   "id": "81d3f974-cc86-483c-913f-fa42873f0bae",
   "metadata": {},
   "outputs": [
    {
     "data": {
      "text/plain": [
       "'rjua'"
      ]
     },
     "execution_count": 3,
     "metadata": {},
     "output_type": "execute_result"
    }
   ],
   "source": [
    "s[::2]"
   ]
  },
  {
   "cell_type": "code",
   "execution_count": 15,
   "id": "78d56326-473b-4b0b-989c-f8a11f0f191f",
   "metadata": {},
   "outputs": [
    {
     "name": "stdout",
     "output_type": "stream",
     "text": [
      "jhfdb\n"
     ]
    }
   ],
   "source": [
    "s = \"abcdefghij\"\n",
    "result = s[::-2]\n",
    "print(result)"
   ]
  },
  {
   "cell_type": "code",
   "execution_count": 31,
   "id": "3f4a962c-2b86-46d8-a604-39c250681519",
   "metadata": {},
   "outputs": [
    {
     "data": {
      "text/plain": [
       "['r', 'a', 'j', 'k', 'u', 'm', 'a', 'r']"
      ]
     },
     "execution_count": 31,
     "metadata": {},
     "output_type": "execute_result"
    }
   ],
   "source": [
    "list(s)"
   ]
  },
  {
   "cell_type": "markdown",
   "id": "25b46c30-a02d-497f-87ed-bbc15b5dd3b6",
   "metadata": {},
   "source": [
    "## Control Statments"
   ]
  },
  {
   "cell_type": "code",
   "execution_count": 4,
   "id": "2648882b-b95a-4f9f-b736-2f458586a36a",
   "metadata": {},
   "outputs": [
    {
     "name": "stdout",
     "output_type": "stream",
     "text": [
      "1\n",
      "3\n",
      "5\n",
      "7\n",
      "9\n",
      "Rajkumar\n",
      "[0, 1, 2]\n"
     ]
    }
   ],
   "source": [
    "mylist=[1,3,5,7,9,'Rajkumar',[0,1,2]]\n",
    "for num in mylist:\n",
    "    print(num)"
   ]
  },
  {
   "cell_type": "markdown",
   "id": "9de69e74-4326-4e22-8b26-ef63656dd41b",
   "metadata": {},
   "source": [
    "## continue , break and pass in loop stamentts"
   ]
  },
  {
   "cell_type": "code",
   "execution_count": 7,
   "id": "bd6fd4a7-9d84-4359-8f1a-6e1571bbf22a",
   "metadata": {},
   "outputs": [
    {
     "name": "stdout",
     "output_type": "stream",
     "text": [
      "s\n",
      "a\n",
      "a\n"
     ]
    }
   ],
   "source": [
    "for letter in \"saamy\":\n",
    "    if letter=='m':\n",
    "        break\n",
    "    print(letter)"
   ]
  },
  {
   "cell_type": "code",
   "execution_count": 8,
   "id": "2243965a-df0f-4423-8989-b84642739e2d",
   "metadata": {},
   "outputs": [
    {
     "name": "stdout",
     "output_type": "stream",
     "text": [
      "s\n",
      "a\n",
      "a\n",
      "y\n"
     ]
    }
   ],
   "source": [
    "for letter in \"saamy\":\n",
    "    if letter=='m':\n",
    "        continue\n",
    "    print(letter)"
   ]
  },
  {
   "cell_type": "code",
   "execution_count": 15,
   "id": "a548b50b-78f6-4459-a6d1-ff83222080c3",
   "metadata": {},
   "outputs": [
    {
     "name": "stdout",
     "output_type": "stream",
     "text": [
      "t\n"
     ]
    }
   ],
   "source": [
    "for letter in \"saamyuuut\":\n",
    "    pass\n",
    "        \n",
    "print(letter)"
   ]
  },
  {
   "cell_type": "markdown",
   "id": "85674a35-8e40-4dd9-bebf-278181744715",
   "metadata": {},
   "source": [
    "## range, enumerate & zib"
   ]
  },
  {
   "cell_type": "code",
   "execution_count": 16,
   "id": "fad6e959-fcf1-46ef-b44d-c29f6ed38ba8",
   "metadata": {},
   "outputs": [
    {
     "name": "stdout",
     "output_type": "stream",
     "text": [
      "1\n",
      "3\n",
      "5\n",
      "7\n",
      "9\n"
     ]
    }
   ],
   "source": [
    "for num in range(1,10,2):\n",
    "    print(num)\n"
   ]
  },
  {
   "cell_type": "code",
   "execution_count": 17,
   "id": "2be07a55-6fb3-43b6-9104-c13c9953f1ef",
   "metadata": {},
   "outputs": [
    {
     "data": {
      "text/plain": [
       "[1, 3, 5, 7, 9]"
      ]
     },
     "execution_count": 17,
     "metadata": {},
     "output_type": "execute_result"
    }
   ],
   "source": [
    "list(range(1,10,2))"
   ]
  },
  {
   "cell_type": "code",
   "execution_count": 18,
   "id": "0956df88-d0f6-4c8a-a9be-a7311b916a98",
   "metadata": {},
   "outputs": [
    {
     "name": "stdout",
     "output_type": "stream",
     "text": [
      "(0, 'R')\n",
      "(1, 'a')\n",
      "(2, 'j')\n",
      "(3, 'k')\n",
      "(4, 'u')\n",
      "(5, 'm')\n",
      "(6, 'a')\n",
      "(7, 'r')\n"
     ]
    }
   ],
   "source": [
    "word ='Rajkumar'\n",
    "for x in enumerate(word):\n",
    "    print(x)"
   ]
  },
  {
   "cell_type": "code",
   "execution_count": 50,
   "id": "1eccc40f-bb49-4815-9af2-b43ea7ffe685",
   "metadata": {},
   "outputs": [
    {
     "name": "stdout",
     "output_type": "stream",
     "text": [
      "(0, 'source3')\n",
      "(1, 'source1')\n",
      "(2, 'source2')\n"
     ]
    }
   ],
   "source": [
    "word =['source3','source1','source2']\n",
    "for x in enumerate(word):\n",
    "    print(x)"
   ]
  },
  {
   "cell_type": "code",
   "execution_count": 49,
   "id": "3c7e851d-8836-48aa-abd0-964c5937936e",
   "metadata": {},
   "outputs": [
    {
     "name": "stdout",
     "output_type": "stream",
     "text": [
      "(0, 'hello')\n",
      "(1, 'how')\n",
      "(2, 'are')\n",
      "(3, 'you')\n",
      "(4, ',')\n",
      "(5, 'this')\n",
      "(6, 'is')\n",
      "(7, 'test')\n",
      "(8, 'program')\n"
     ]
    }
   ],
   "source": [
    "myline=\"hello how are you , this is test program\"\n",
    "for x in enumerate(myline.split(\" \")):\n",
    "    print(x)\n",
    "    "
   ]
  },
  {
   "cell_type": "code",
   "execution_count": 19,
   "id": "ca9ad50d-95cb-4335-9ce4-fbb5490107a8",
   "metadata": {},
   "outputs": [
    {
     "name": "stdout",
     "output_type": "stream",
     "text": [
      "0\n",
      "R\n",
      "1\n",
      "a\n",
      "2\n",
      "j\n",
      "3\n",
      "k\n",
      "4\n",
      "u\n",
      "5\n",
      "m\n",
      "6\n",
      "a\n",
      "7\n",
      "r\n"
     ]
    }
   ],
   "source": [
    "word ='Rajkumar'\n",
    "for (x,y) in enumerate(word):\n",
    "    print(x)\n",
    "    print(y)"
   ]
  },
  {
   "cell_type": "code",
   "execution_count": 52,
   "id": "7659d409-9fbf-4bc9-ad02-d758ad17e310",
   "metadata": {},
   "outputs": [
    {
     "name": "stdout",
     "output_type": "stream",
     "text": [
      "(10, 'raj', '333')\n",
      "(20, 'venkat', '444')\n",
      "(30, 'chris', '555')\n"
     ]
    }
   ],
   "source": [
    "list1 = [10,20,30,40,50,60]\n",
    "list2 = [\"raj\",\"venkat\",\"chris\"]\n",
    "list3 = [\"333\",\"444\",\"555\"]\n",
    "for item in zip(list1,list2,list3):\n",
    "    print(item)"
   ]
  },
  {
   "cell_type": "code",
   "execution_count": 53,
   "id": "c11d6dd8-3211-40fc-bce8-790df3010e15",
   "metadata": {},
   "outputs": [
    {
     "data": {
      "text/plain": [
       "<zip at 0x13278997440>"
      ]
     },
     "execution_count": 53,
     "metadata": {},
     "output_type": "execute_result"
    }
   ],
   "source": [
    " zip(list1,list2,list3)"
   ]
  },
  {
   "cell_type": "code",
   "execution_count": 54,
   "id": "1c315948-3b70-433e-b50f-a52a94c0a195",
   "metadata": {},
   "outputs": [
    {
     "data": {
      "text/plain": [
       "[(10, 'raj', '333'), (20, 'venkat', '444'), (30, 'chris', '555')]"
      ]
     },
     "execution_count": 54,
     "metadata": {},
     "output_type": "execute_result"
    }
   ],
   "source": [
    "list(zip(list1,list2,list3))"
   ]
  },
  {
   "cell_type": "code",
   "execution_count": 24,
   "id": "787c8617-7efb-462c-ad3e-3339afa76b31",
   "metadata": {},
   "outputs": [
    {
     "data": {
      "text/plain": [
       "10"
      ]
     },
     "execution_count": 24,
     "metadata": {},
     "output_type": "execute_result"
    }
   ],
   "source": [
    "min(list1)"
   ]
  },
  {
   "cell_type": "code",
   "execution_count": 25,
   "id": "1a372ce6-90c5-4eab-bd69-23dfba058f48",
   "metadata": {},
   "outputs": [
    {
     "data": {
      "text/plain": [
       "60"
      ]
     },
     "execution_count": 25,
     "metadata": {},
     "output_type": "execute_result"
    }
   ],
   "source": [
    "max(list1)"
   ]
  },
  {
   "cell_type": "code",
   "execution_count": 36,
   "id": "dd25460a-8309-4561-b7be-e90f7fccd9da",
   "metadata": {},
   "outputs": [
    {
     "name": "stdout",
     "output_type": "stream",
     "text": [
      "None\n"
     ]
    },
    {
     "data": {
      "text/plain": [
       "[10, 50, 30, 20, 60, 40]"
      ]
     },
     "execution_count": 36,
     "metadata": {},
     "output_type": "execute_result"
    }
   ],
   "source": [
    "list1 = [10,20,30,40,50,60]\n",
    "from random import shuffle\n",
    "ran_list = shuffle(list1)\n",
    "print(ran_list)\n",
    "list1"
   ]
  },
  {
   "cell_type": "code",
   "execution_count": 32,
   "id": "d6453c8b-47c9-4aa9-854d-4956fd578262",
   "metadata": {},
   "outputs": [
    {
     "name": "stdout",
     "output_type": "stream",
     "text": [
      "None\n"
     ]
    }
   ],
   "source": []
  },
  {
   "cell_type": "code",
   "execution_count": 37,
   "id": "445ca942-5fec-4396-92b5-2cfec6dc4271",
   "metadata": {},
   "outputs": [
    {
     "data": {
      "text/plain": [
       "65"
      ]
     },
     "execution_count": 37,
     "metadata": {},
     "output_type": "execute_result"
    }
   ],
   "source": [
    "list1 = [10,20,30,40,50,60]\n",
    "from random import randint\n",
    "randint(0,100)"
   ]
  },
  {
   "cell_type": "code",
   "execution_count": 38,
   "id": "77604803-b457-415e-a239-a9df1f00518a",
   "metadata": {},
   "outputs": [
    {
     "name": "stdin",
     "output_type": "stream",
     "text": [
      "what is your name ? Rajkumar\n"
     ]
    }
   ],
   "source": [
    "result =input(\"what is your name ?\")"
   ]
  },
  {
   "cell_type": "code",
   "execution_count": 39,
   "id": "882af90e-eea3-417d-9e8e-d5199c0cbe3b",
   "metadata": {},
   "outputs": [
    {
     "data": {
      "text/plain": [
       "'Rajkumar'"
      ]
     },
     "execution_count": 39,
     "metadata": {},
     "output_type": "execute_result"
    }
   ],
   "source": [
    "result"
   ]
  },
  {
   "cell_type": "code",
   "execution_count": 46,
   "id": "eb720fd3-54e8-41bf-914b-f257c5d03de2",
   "metadata": {},
   "outputs": [
    {
     "name": "stdout",
     "output_type": "stream",
     "text": [
      "['R', 'a', 'j', 'k', 'u', 'm', 'a', 'r']\n"
     ]
    }
   ],
   "source": [
    "mystring ='Rajkumar'\n",
    "\n",
    "list1 = []\n",
    "for letter in mystring:\n",
    "    list1.append(letter)\n",
    "\n",
    "print(list1)"
   ]
  },
  {
   "cell_type": "code",
   "execution_count": 58,
   "id": "ef8f0b18-9307-4304-9206-669906f84a63",
   "metadata": {},
   "outputs": [
    {
     "name": "stdout",
     "output_type": "stream",
     "text": [
      "['R', 'A', 'J', 'K', 'U', 'M', 'A', 'R']\n"
     ]
    }
   ],
   "source": [
    "mystring ='rajkumar'\n",
    "list1 =[letter.upper() for letter in mystring]\n",
    "print(list1)"
   ]
  },
  {
   "cell_type": "code",
   "execution_count": 61,
   "id": "5b2378f6-c8b5-4175-832b-3906708606cd",
   "metadata": {},
   "outputs": [
    {
     "data": {
      "text/plain": [
       "[1, 2, 3, 4, 5, 6, 7, 8, 9]"
      ]
     },
     "execution_count": 61,
     "metadata": {},
     "output_type": "execute_result"
    }
   ],
   "source": [
    "list(range(1,10))"
   ]
  },
  {
   "cell_type": "code",
   "execution_count": 74,
   "id": "4d29b28c-5c2c-4d46-88a5-459ea4ac41fa",
   "metadata": {},
   "outputs": [
    {
     "name": "stdout",
     "output_type": "stream",
     "text": [
      "[0, 4, 16, 36, 64, 100, 144, 196]\n"
     ]
    }
   ],
   "source": [
    "mylist = [x**2 for x in range(0,15) if x%2==0]\n",
    "print(mylist)"
   ]
  },
  {
   "cell_type": "code",
   "execution_count": 75,
   "id": "db247e4f-dbc3-4ac3-8db6-e8eeaf5b8000",
   "metadata": {},
   "outputs": [],
   "source": [
    "results =[x if x%2==0 else 'ODD' for x in range(1,10)]"
   ]
  },
  {
   "cell_type": "code",
   "execution_count": 76,
   "id": "904c54ac-6960-44f5-8a00-a4065301a4a6",
   "metadata": {},
   "outputs": [
    {
     "name": "stdout",
     "output_type": "stream",
     "text": [
      "['ODD', 2, 'ODD', 4, 'ODD', 6, 'ODD', 8, 'ODD']\n"
     ]
    }
   ],
   "source": [
    "print(results)"
   ]
  },
  {
   "cell_type": "code",
   "execution_count": 78,
   "id": "e9b48438-809a-4406-a073-322900362751",
   "metadata": {},
   "outputs": [
    {
     "name": "stdout",
     "output_type": "stream",
     "text": [
      "['ODD', 2, 'ODD', 4, 'ODD', 6, 'ODD', 8, 'ODD']\n"
     ]
    }
   ],
   "source": [
    "mylist =[]\n",
    "for x in range(1,10):\n",
    "    if x%2==0:\n",
    "        mylist.append(x)\n",
    "    else:\n",
    "        mylist.append('ODD')\n",
    "print(mylist)        "
   ]
  },
  {
   "cell_type": "code",
   "execution_count": 81,
   "id": "de139311-82d5-4588-8db5-d2266ee10817",
   "metadata": {},
   "outputs": [
    {
     "name": "stdout",
     "output_type": "stream",
     "text": [
      "[10, 20, 30, 20, 40, 60, 30, 60, 90]\n"
     ]
    }
   ],
   "source": [
    "mylist =[]\n",
    "for x in [1,2,3]:\n",
    "    for y in [10,20,30]:\n",
    "        mylist.append(x*y)\n",
    "        \n",
    "print(mylist)"
   ]
  },
  {
   "cell_type": "code",
   "execution_count": 83,
   "id": "00fb144e-f7cf-413c-bc7a-06fe0055b666",
   "metadata": {},
   "outputs": [
    {
     "name": "stdout",
     "output_type": "stream",
     "text": [
      "[10, 20, 30, 20, 40, 60, 30, 60, 90]\n"
     ]
    }
   ],
   "source": [
    "mylist =[x*y for x in [1,2,3] for y in [10,20,30]]\n",
    "print(mylist)"
   ]
  },
  {
   "cell_type": "code",
   "execution_count": 56,
   "id": "092c02b8-2907-4703-988d-e4968ccb3ce6",
   "metadata": {},
   "outputs": [
    {
     "name": "stdout",
     "output_type": "stream",
     "text": [
      "start\n",
      "s\n",
      "sentence\n"
     ]
    }
   ],
   "source": [
    "st = 'print only the words that start with s in this sentence'\n",
    "for word in st.split(' '):\n",
    "    if word[0]=='s':\n",
    "        print(word)\n",
    "    else:\n",
    "        pass"
   ]
  },
  {
   "cell_type": "code",
   "execution_count": 57,
   "id": "537ed647-ac47-478a-aba1-4d392808656f",
   "metadata": {},
   "outputs": [
    {
     "name": "stdout",
     "output_type": "stream",
     "text": [
      "['start', 's', 'sentence']\n"
     ]
    }
   ],
   "source": [
    "linestr = 'print only the words that start with s in this sentence'\n",
    "str =[ word for word in linestr.split(\" \") if word[0]=='s']\n",
    "print(str)"
   ]
  },
  {
   "cell_type": "code",
   "execution_count": 93,
   "id": "6329f116-440a-45a8-b45e-e09f4367d545",
   "metadata": {},
   "outputs": [
    {
     "name": "stdout",
     "output_type": "stream",
     "text": [
      "[15, 30, 45]\n"
     ]
    }
   ],
   "source": [
    "mylist =[ x for x in range(1,50) if (x%3==0 and x%5==0)]\n",
    "print(mylist)"
   ]
  },
  {
   "cell_type": "code",
   "execution_count": 96,
   "id": "70ef55a3-8c3a-4ace-b657-50f12cbf3178",
   "metadata": {},
   "outputs": [
    {
     "name": "stdout",
     "output_type": "stream",
     "text": [
      "['odd', 'odd', 'even', 'even', 'even', 'even', 'even', 'odd', 'even', 'even', 'even', 'even', 'odd']\n"
     ]
    }
   ],
   "source": [
    "mylist=[]\n",
    "mystring ='print every word in this sentence that has an even number of letters'\n",
    "mylist = [ 'even' if len(word)%2==0 else 'odd' for word in mystring.split(' ') ]\n",
    "print(mylist)"
   ]
  },
  {
   "cell_type": "code",
   "execution_count": 104,
   "id": "e80fc11e-22f4-49d5-bc4d-502f2a801d33",
   "metadata": {},
   "outputs": [
    {
     "name": "stdout",
     "output_type": "stream",
     "text": [
      "['c', 'a', 'l', 'o', 't', 'f', 'l', 'o', 'e', 'w', 'i', 't', 's']\n"
     ]
    }
   ],
   "source": [
    "mystring='create a list of the first letters of every word in this string'\n",
    "mylist=[ word[0] for word in mystring.split(' ')]\n",
    "print(mylist)"
   ]
  },
  {
   "cell_type": "markdown",
   "id": "1fd1eda9-9fd5-45bd-9f52-5d4533738154",
   "metadata": {},
   "source": [
    "## while loop"
   ]
  },
  {
   "cell_type": "code",
   "execution_count": 72,
   "id": "1d6c5b2d-5cd9-4d61-917d-f1e28d1f15ce",
   "metadata": {},
   "outputs": [
    {
     "name": "stdout",
     "output_type": "stream",
     "text": [
      "Count is 0\n",
      "Count is 1\n",
      "Count is 2\n",
      "Count is 3\n",
      "Count is 4\n",
      "Loop finished\n"
     ]
    }
   ],
   "source": [
    "count = 0\n",
    "\n",
    "while count < 5:\n",
    "    print(f\"Count is {count}\")\n",
    "    count += 1\n",
    "\n",
    "print(\"Loop finished\")\n"
   ]
  },
  {
   "cell_type": "markdown",
   "id": "149cd96f-49f3-4605-85c6-90e57e600064",
   "metadata": {},
   "source": [
    "## if else in python"
   ]
  },
  {
   "cell_type": "code",
   "execution_count": 73,
   "id": "9dcbebde-848c-4ff6-9e01-cad13f372263",
   "metadata": {},
   "outputs": [
    {
     "name": "stdout",
     "output_type": "stream",
     "text": [
      "x is equal to 10\n"
     ]
    }
   ],
   "source": [
    "x = 10\n",
    "\n",
    "if x > 10:\n",
    "    print(\"x is greater than 10\")\n",
    "elif x < 10:\n",
    "    print(\"x is less than 10\")\n",
    "else:\n",
    "    print(\"x is equal to 10\")\n"
   ]
  },
  {
   "cell_type": "code",
   "execution_count": null,
   "id": "8a9da164-ac1a-4d28-b26f-239818d65b9b",
   "metadata": {},
   "outputs": [],
   "source": []
  }
 ],
 "metadata": {
  "kernelspec": {
   "display_name": "Python 3 (ipykernel)",
   "language": "python",
   "name": "python3"
  },
  "language_info": {
   "codemirror_mode": {
    "name": "ipython",
    "version": 3
   },
   "file_extension": ".py",
   "mimetype": "text/x-python",
   "name": "python",
   "nbconvert_exporter": "python",
   "pygments_lexer": "ipython3",
   "version": "3.11.8"
  }
 },
 "nbformat": 4,
 "nbformat_minor": 5
}
