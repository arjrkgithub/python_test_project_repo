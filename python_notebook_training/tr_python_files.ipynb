{
 "cells": [
  {
   "cell_type": "code",
   "execution_count": 1,
   "id": "b87d9d99-348f-4b97-b4ef-459addcb8bd6",
   "metadata": {},
   "outputs": [
    {
     "name": "stdout",
     "output_type": "stream",
     "text": [
      "Overwriting mytextfile.txt\n"
     ]
    }
   ],
   "source": [
    "%%writefile mytextfile.txt\n",
    "hello how are you\n",
    "am fine\n",
    "am studying here\n",
    "this is file writing testing"
   ]
  },
  {
   "cell_type": "code",
   "execution_count": 2,
   "id": "ad05cfde-88dd-434b-a234-f2de42d3e29d",
   "metadata": {},
   "outputs": [],
   "source": [
    "myfile = open('mytextfile.txt')"
   ]
  },
  {
   "cell_type": "code",
   "execution_count": 3,
   "id": "ece18400-0dbe-4aa8-8955-c84491f9cad7",
   "metadata": {},
   "outputs": [
    {
     "data": {
      "text/plain": [
       "'hello how are you\\nam fine\\nam studying here\\nthis is file writing testing\\n'"
      ]
     },
     "execution_count": 3,
     "metadata": {},
     "output_type": "execute_result"
    }
   ],
   "source": [
    "myfile.read()"
   ]
  },
  {
   "cell_type": "code",
   "execution_count": 4,
   "id": "6666a20b-036d-400f-93b5-1842fabaa4ba",
   "metadata": {},
   "outputs": [],
   "source": [
    "myfile.seek(0)\n",
    "myfile.readlines()\n",
    "\n",
    "myfile.close()"
   ]
  },
  {
   "cell_type": "code",
   "execution_count": 5,
   "id": "9b113cd8-7149-473e-96e3-803fecbe9588",
   "metadata": {},
   "outputs": [],
   "source": [
    "with open('mytextfile.txt') as my_new_file:\n",
    "    contents = my_new_file.read()"
   ]
  },
  {
   "cell_type": "code",
   "execution_count": 13,
   "id": "107a3726-5042-490e-930b-6e690b884361",
   "metadata": {},
   "outputs": [
    {
     "data": {
      "text/plain": [
       "'hello how are you\\nam fine\\nam studying here\\nthis is file writing testing\\n'"
      ]
     },
     "execution_count": 13,
     "metadata": {},
     "output_type": "execute_result"
    }
   ],
   "source": [
    "contents "
   ]
  },
  {
   "cell_type": "code",
   "execution_count": 14,
   "id": "030a5cb5-e50f-4bee-9817-6f507b1d3947",
   "metadata": {},
   "outputs": [
    {
     "name": "stdout",
     "output_type": "stream",
     "text": [
      "hello how are you\n",
      "am fine\n",
      "am studying here\n",
      "this is file writing testing\n",
      "\n"
     ]
    }
   ],
   "source": [
    "print(contents)"
   ]
  },
  {
   "cell_type": "code",
   "execution_count": 7,
   "id": "1dcfdc74-6285-47c6-8b8d-da17e882a61d",
   "metadata": {},
   "outputs": [],
   "source": [
    "with open('mytextfile.txt','r') as my_new_file:\n",
    "    contents = my_new_file.read()"
   ]
  },
  {
   "cell_type": "code",
   "execution_count": 8,
   "id": "4eaad6d4-5392-409d-ad65-137955ab1d48",
   "metadata": {},
   "outputs": [
    {
     "data": {
      "text/plain": [
       "'hello how are you\\nam fine\\nam studying here\\nthis is file writing testing\\n'"
      ]
     },
     "execution_count": 8,
     "metadata": {},
     "output_type": "execute_result"
    }
   ],
   "source": [
    "contents"
   ]
  },
  {
   "cell_type": "code",
   "execution_count": 9,
   "id": "402119c2-4d3e-426a-b301-fb2652409f76",
   "metadata": {},
   "outputs": [],
   "source": [
    "with open('newtestfile.txt','w') as f:\n",
    "    f.write('this is new file')"
   ]
  },
  {
   "cell_type": "code",
   "execution_count": 10,
   "id": "4a213879-6d5c-47aa-a23b-eb9a7fb8a250",
   "metadata": {},
   "outputs": [
    {
     "name": "stdout",
     "output_type": "stream",
     "text": [
      "this is new file\n"
     ]
    }
   ],
   "source": [
    "with open('newtestfile.txt','r') as f:\n",
    "    print(f.read())"
   ]
  },
  {
   "cell_type": "code",
   "execution_count": 15,
   "id": "4b1dea50-69d9-4c28-9f3a-82b8dcfe1307",
   "metadata": {},
   "outputs": [
    {
     "name": "stdout",
     "output_type": "stream",
     "text": [
      "Input file: -f\n",
      "Output file: C:\\Users\\hp sys\\AppData\\Local\\Packages\\PythonSoftwareFoundation.Python.3.11_qbz5n2kfra8p0\\LocalCache\\Roaming\\jupyter\\runtime\\kernel-2a93a594-21e2-4c3d-a5e3-1c47feca13aa.json\n"
     ]
    }
   ],
   "source": [
    "import sys\n",
    "\n",
    "def process(input_file, output_file):\n",
    "    # Your processing logic here\n",
    "    print(f\"Input file: {input_file}\")\n",
    "    print(f\"Output file: {output_file}\")\n",
    "\n",
    "if __name__ == \"__main__\":\n",
    "    # Check if the correct number of arguments is provided\n",
    "    if len(sys.argv) != 3:\n",
    "        print(\"Usage: python myprogram.py <input_file> <output_file>\")\n",
    "        sys.exit(1)\n",
    "    \n",
    "    # Get input and output file paths from command-line arguments\n",
    "    input_file = sys.argv[1]\n",
    "    output_file = sys.argv[2]\n",
    "\n",
    "    # Call the process method with the input and output file paths\n",
    "    process(input_file, output_file)\n"
   ]
  },
  {
   "cell_type": "code",
   "execution_count": 16,
   "id": "9b1e2b1b-05d0-4c98-b6d2-5b0a1510c59f",
   "metadata": {},
   "outputs": [],
   "source": [
    "### When a Python script is executed, Python sets the special variable __name__ to \"__main__\" for the script that is being executed as the main program.\n",
    "### However, when a script is imported as a module into another script, Python sets the __name__ variable to the name of the module (i.e., the script's filename without the .py extension).\n",
    "                                  "
   ]
  },
  {
   "cell_type": "code",
   "execution_count": 17,
   "id": "cfc66a24-3990-4207-9717-c3b412f61171",
   "metadata": {},
   "outputs": [
    {
     "ename": "SyntaxError",
     "evalue": "invalid syntax (2403968793.py, line 1)",
     "output_type": "error",
     "traceback": [
      "\u001b[1;36m  Cell \u001b[1;32mIn[17], line 1\u001b[1;36m\u001b[0m\n\u001b[1;33m    python myprogram.py input.txt output.txt\u001b[0m\n\u001b[1;37m           ^\u001b[0m\n\u001b[1;31mSyntaxError\u001b[0m\u001b[1;31m:\u001b[0m invalid syntax\n"
     ]
    }
   ],
   "source": [
    "python myprogram.py input.txt output.txt"
   ]
  },
  {
   "cell_type": "code",
   "execution_count": null,
   "id": "028ff02b-a16a-4da7-bad5-30ff7bd1d3be",
   "metadata": {},
   "outputs": [],
   "source": []
  }
 ],
 "metadata": {
  "kernelspec": {
   "display_name": "Python 3 (ipykernel)",
   "language": "python",
   "name": "python3"
  },
  "language_info": {
   "codemirror_mode": {
    "name": "ipython",
    "version": 3
   },
   "file_extension": ".py",
   "mimetype": "text/x-python",
   "name": "python",
   "nbconvert_exporter": "python",
   "pygments_lexer": "ipython3",
   "version": "3.11.8"
  }
 },
 "nbformat": 4,
 "nbformat_minor": 5
}
